{
 "cells": [
  {
   "cell_type": "code",
   "execution_count": 14,
   "metadata": {},
   "outputs": [
    {
     "name": "stdout",
     "output_type": "stream",
     "text": [
      "Requirement already satisfied: langchain in ./.venv/lib/python3.11/site-packages (0.2.1)\n",
      "Requirement already satisfied: langchain_openai in ./.venv/lib/python3.11/site-packages (0.1.8)\n",
      "Requirement already satisfied: langchain_community in ./.venv/lib/python3.11/site-packages (0.2.1)\n",
      "Requirement already satisfied: python-dotenv in ./.venv/lib/python3.11/site-packages (1.0.1)\n",
      "Requirement already satisfied: pymysql in ./.venv/lib/python3.11/site-packages (1.1.1)\n",
      "Requirement already satisfied: PyAthena in ./.venv/lib/python3.11/site-packages (3.8.3)\n",
      "Requirement already satisfied: PyYAML>=5.3 in ./.venv/lib/python3.11/site-packages (from langchain) (6.0.1)\n",
      "Requirement already satisfied: SQLAlchemy<3,>=1.4 in ./.venv/lib/python3.11/site-packages (from langchain) (2.0.30)\n",
      "Requirement already satisfied: aiohttp<4.0.0,>=3.8.3 in ./.venv/lib/python3.11/site-packages (from langchain) (3.9.5)\n",
      "Requirement already satisfied: langchain-core<0.3.0,>=0.2.0 in ./.venv/lib/python3.11/site-packages (from langchain) (0.2.3)\n",
      "Requirement already satisfied: langchain-text-splitters<0.3.0,>=0.2.0 in ./.venv/lib/python3.11/site-packages (from langchain) (0.2.0)\n",
      "Requirement already satisfied: langsmith<0.2.0,>=0.1.17 in ./.venv/lib/python3.11/site-packages (from langchain) (0.1.67)\n",
      "Requirement already satisfied: numpy<2,>=1 in ./.venv/lib/python3.11/site-packages (from langchain) (1.26.4)\n",
      "Requirement already satisfied: pydantic<3,>=1 in ./.venv/lib/python3.11/site-packages (from langchain) (2.7.3)\n",
      "Requirement already satisfied: requests<3,>=2 in ./.venv/lib/python3.11/site-packages (from langchain) (2.32.3)\n",
      "Requirement already satisfied: tenacity<9.0.0,>=8.1.0 in ./.venv/lib/python3.11/site-packages (from langchain) (8.3.0)\n",
      "Requirement already satisfied: openai<2.0.0,>=1.26.0 in ./.venv/lib/python3.11/site-packages (from langchain_openai) (1.30.5)\n",
      "Requirement already satisfied: tiktoken<1,>=0.7 in ./.venv/lib/python3.11/site-packages (from langchain_openai) (0.7.0)\n",
      "Requirement already satisfied: dataclasses-json<0.7,>=0.5.7 in ./.venv/lib/python3.11/site-packages (from langchain_community) (0.6.6)\n",
      "Requirement already satisfied: boto3>=1.26.4 in ./.venv/lib/python3.11/site-packages (from PyAthena) (1.34.119)\n",
      "Requirement already satisfied: botocore>=1.29.4 in ./.venv/lib/python3.11/site-packages (from PyAthena) (1.34.119)\n",
      "Requirement already satisfied: fsspec in ./.venv/lib/python3.11/site-packages (from PyAthena) (2024.6.0)\n",
      "Requirement already satisfied: aiosignal>=1.1.2 in ./.venv/lib/python3.11/site-packages (from aiohttp<4.0.0,>=3.8.3->langchain) (1.3.1)\n",
      "Requirement already satisfied: attrs>=17.3.0 in ./.venv/lib/python3.11/site-packages (from aiohttp<4.0.0,>=3.8.3->langchain) (23.2.0)\n",
      "Requirement already satisfied: frozenlist>=1.1.1 in ./.venv/lib/python3.11/site-packages (from aiohttp<4.0.0,>=3.8.3->langchain) (1.4.1)\n",
      "Requirement already satisfied: multidict<7.0,>=4.5 in ./.venv/lib/python3.11/site-packages (from aiohttp<4.0.0,>=3.8.3->langchain) (6.0.5)\n",
      "Requirement already satisfied: yarl<2.0,>=1.0 in ./.venv/lib/python3.11/site-packages (from aiohttp<4.0.0,>=3.8.3->langchain) (1.9.4)\n",
      "Requirement already satisfied: jmespath<2.0.0,>=0.7.1 in ./.venv/lib/python3.11/site-packages (from boto3>=1.26.4->PyAthena) (1.0.1)\n",
      "Requirement already satisfied: s3transfer<0.11.0,>=0.10.0 in ./.venv/lib/python3.11/site-packages (from boto3>=1.26.4->PyAthena) (0.10.1)\n",
      "Requirement already satisfied: python-dateutil<3.0.0,>=2.1 in ./.venv/lib/python3.11/site-packages (from botocore>=1.29.4->PyAthena) (2.9.0.post0)\n",
      "Requirement already satisfied: urllib3!=2.2.0,<3,>=1.25.4 in ./.venv/lib/python3.11/site-packages (from botocore>=1.29.4->PyAthena) (2.2.1)\n",
      "Requirement already satisfied: marshmallow<4.0.0,>=3.18.0 in ./.venv/lib/python3.11/site-packages (from dataclasses-json<0.7,>=0.5.7->langchain_community) (3.21.2)\n",
      "Requirement already satisfied: typing-inspect<1,>=0.4.0 in ./.venv/lib/python3.11/site-packages (from dataclasses-json<0.7,>=0.5.7->langchain_community) (0.9.0)\n",
      "Requirement already satisfied: jsonpatch<2.0,>=1.33 in ./.venv/lib/python3.11/site-packages (from langchain-core<0.3.0,>=0.2.0->langchain) (1.33)\n",
      "Requirement already satisfied: packaging<24.0,>=23.2 in ./.venv/lib/python3.11/site-packages (from langchain-core<0.3.0,>=0.2.0->langchain) (23.2)\n",
      "Requirement already satisfied: orjson<4.0.0,>=3.9.14 in ./.venv/lib/python3.11/site-packages (from langsmith<0.2.0,>=0.1.17->langchain) (3.10.3)\n",
      "Requirement already satisfied: anyio<5,>=3.5.0 in ./.venv/lib/python3.11/site-packages (from openai<2.0.0,>=1.26.0->langchain_openai) (4.4.0)\n",
      "Requirement already satisfied: distro<2,>=1.7.0 in ./.venv/lib/python3.11/site-packages (from openai<2.0.0,>=1.26.0->langchain_openai) (1.9.0)\n",
      "Requirement already satisfied: httpx<1,>=0.23.0 in ./.venv/lib/python3.11/site-packages (from openai<2.0.0,>=1.26.0->langchain_openai) (0.27.0)\n",
      "Requirement already satisfied: sniffio in ./.venv/lib/python3.11/site-packages (from openai<2.0.0,>=1.26.0->langchain_openai) (1.3.1)\n",
      "Requirement already satisfied: tqdm>4 in ./.venv/lib/python3.11/site-packages (from openai<2.0.0,>=1.26.0->langchain_openai) (4.66.4)\n",
      "Requirement already satisfied: typing-extensions<5,>=4.7 in ./.venv/lib/python3.11/site-packages (from openai<2.0.0,>=1.26.0->langchain_openai) (4.12.1)\n",
      "Requirement already satisfied: annotated-types>=0.4.0 in ./.venv/lib/python3.11/site-packages (from pydantic<3,>=1->langchain) (0.7.0)\n",
      "Requirement already satisfied: pydantic-core==2.18.4 in ./.venv/lib/python3.11/site-packages (from pydantic<3,>=1->langchain) (2.18.4)\n",
      "Requirement already satisfied: charset-normalizer<4,>=2 in ./.venv/lib/python3.11/site-packages (from requests<3,>=2->langchain) (3.3.2)\n",
      "Requirement already satisfied: idna<4,>=2.5 in ./.venv/lib/python3.11/site-packages (from requests<3,>=2->langchain) (3.7)\n",
      "Requirement already satisfied: certifi>=2017.4.17 in ./.venv/lib/python3.11/site-packages (from requests<3,>=2->langchain) (2024.6.2)\n",
      "Requirement already satisfied: regex>=2022.1.18 in ./.venv/lib/python3.11/site-packages (from tiktoken<1,>=0.7->langchain_openai) (2024.5.15)\n",
      "Requirement already satisfied: httpcore==1.* in ./.venv/lib/python3.11/site-packages (from httpx<1,>=0.23.0->openai<2.0.0,>=1.26.0->langchain_openai) (1.0.5)\n",
      "Requirement already satisfied: h11<0.15,>=0.13 in ./.venv/lib/python3.11/site-packages (from httpcore==1.*->httpx<1,>=0.23.0->openai<2.0.0,>=1.26.0->langchain_openai) (0.14.0)\n",
      "Requirement already satisfied: jsonpointer>=1.9 in ./.venv/lib/python3.11/site-packages (from jsonpatch<2.0,>=1.33->langchain-core<0.3.0,>=0.2.0->langchain) (2.4)\n",
      "Requirement already satisfied: six>=1.5 in ./.venv/lib/python3.11/site-packages (from python-dateutil<3.0.0,>=2.1->botocore>=1.29.4->PyAthena) (1.16.0)\n",
      "Requirement already satisfied: mypy-extensions>=0.3.0 in ./.venv/lib/python3.11/site-packages (from typing-inspect<1,>=0.4.0->dataclasses-json<0.7,>=0.5.7->langchain_community) (1.0.0)\n",
      "\n",
      "\u001b[1m[\u001b[0m\u001b[34;49mnotice\u001b[0m\u001b[1;39;49m]\u001b[0m\u001b[39;49m A new release of pip is available: \u001b[0m\u001b[31;49m23.3.1\u001b[0m\u001b[39;49m -> \u001b[0m\u001b[32;49m24.0\u001b[0m\n",
      "\u001b[1m[\u001b[0m\u001b[34;49mnotice\u001b[0m\u001b[1;39;49m]\u001b[0m\u001b[39;49m To update, run: \u001b[0m\u001b[32;49mpip install --upgrade pip\u001b[0m\n"
     ]
    }
   ],
   "source": [
    "! pip install langchain langchain_openai langchain_community python-dotenv pymysql PyAthena "
   ]
  },
  {
   "cell_type": "code",
   "execution_count": 15,
   "metadata": {},
   "outputs": [],
   "source": [
    "from text2sql import Text2Sql\n",
    "\n",
    "agent = Text2Sql()\n",
    "questions = [\n",
    "    \"What are the top 10 highest-rated titles with more than 1,000 votes\",\n",
    "    \"What is the average rating for titles that have votes between 500 and 5,000?\",\n",
    "    \"For each unique rating, what is the title with the highest number of votes?\",\n",
    "    \"What is the average number of votes for titles based on their rating rounded off to the nearest whole number?\",\n",
    "    \"How many titles have a rating above the median rating value?\",\n",
    "    \"Which movie had the highest rating?\",\n",
    "]"
   ]
  },
  {
   "cell_type": "code",
   "execution_count": 16,
   "metadata": {},
   "outputs": [
    {
     "name": "stdout",
     "output_type": "stream",
     "text": [
      "['ratings']\n",
      "\n",
      "\n",
      "2024-06-05 02:44:59,527 INFO sqlalchemy.engine.Engine BEGIN (implicit)\n",
      "2024-06-05 02:44:59,527 INFO sqlalchemy.engine.Engine SELECT ratings.tconst, ratings.averagerating, ratings.numvotes \n",
      "FROM ratings LIMIT %(param_1)s\n",
      "2024-06-05 02:44:59,527 INFO sqlalchemy.engine.Engine [generated in 0.00079s] {'param_1': 3}\n"
     ]
    },
    {
     "name": "stderr",
     "output_type": "stream",
     "text": [
      "/Users/camanze/Desktop/aws/hack2sql/.venv/lib/python3.11/site-packages/langchain_core/_api/deprecation.py:119: LangChainDeprecationWarning: The method `SQLDatabase.get_table_names` was deprecated in langchain-community 0.0.1 and will be removed in 0.3.0. Use get_usable_table_names instead.\n",
      "  warn_deprecated(\n"
     ]
    },
    {
     "name": "stdout",
     "output_type": "stream",
     "text": [
      "2024-06-05 02:45:00,857 INFO sqlalchemy.engine.Engine ROLLBACK\n",
      "\n",
      "CREATE EXTERNAL TABLE ratings (\n",
      "\ttconst STRING,\n",
      "\taveragerating FLOAT,\n",
      "\tnumvotes BIGINT\n",
      ")\n",
      "ROW FORMAT SERDE 'org.apache.hadoop.hive.serde2.lazy.LazySimpleSerDe'\n",
      "WITH SERDEPROPERTIES (\n",
      "\t'field.delim' = '\t'\n",
      ")\n",
      "STORED AS INPUTFORMAT 'org.apache.hadoop.mapred.TextInputFormat' OUTPUTFORMAT 'org.apache.hadoop.hive.ql.io.HiveIgnoreKeyTextOutputFormat'\n",
      "LOCATION 's3://fsptext2sql/ratings/'\n",
      "TBLPROPERTIES (\n",
      "\t'CrawlerSchemaDeserializerVersion' = '1.0',\n",
      "\t'CrawlerSchemaSerializerVersion' = '1.0',\n",
      "\t'UPDATED_BY_CRAWLER' = 'ratings_crawler',\n",
      "\t'areColumnsQuoted' = 'false',\n",
      "\t'averageRecordSize' = '21',\n",
      "\t'classification' = 'csv',\n",
      "\t'columnsOrdered' = 'true',\n",
      "\t'compressionType' = 'none',\n",
      "\t'delimiter' = '\t',\n",
      "\t'inputformat' = 'org.apache.hadoop.mapred.TextInputFormat',\n",
      "\t'location' = 's3://fsptext2sql/ratings/',\n",
      "\t'objectCount' = '1',\n",
      "\t'outputformat' = 'org.apache.hadoop.hive.ql.io.HiveIgnoreKeyTextOutputFormat',\n",
      "\t'recordCount' = '1193012',\n",
      "\t'serde.serialization.lib' = 'org.apache.hadoop.hive.serde2.lazy.LazySimpleSerDe',\n",
      "\t'sizeKey' = '25053268',\n",
      "\t'skip.header.line.count' = '1',\n",
      "\t'typeOfData' = 'file'\n",
      ")\n",
      "\n",
      "/*\n",
      "3 rows from ratings table:\n",
      "tconst\taveragerating\tnumvotes\n",
      "tt0000001\t5.7\t2059\n",
      "tt0000002\t5.6\t277\n",
      "tt0000003\t6.5\t2017\n",
      "*/\n"
     ]
    }
   ],
   "source": [
    "conn = agent._establish_athena_conn()\n",
    "print(conn.get_table_names())\n",
    "print(\"\\n\")\n",
    "print(conn.get_table_info())"
   ]
  },
  {
   "cell_type": "code",
   "execution_count": 17,
   "metadata": {},
   "outputs": [
    {
     "name": "stdout",
     "output_type": "stream",
     "text": [
      "Given an input question, first create a syntactically correct awsathena query to run, then look at the results of the query and return the answer. Unless the user specifies in his question a specific number of examples he wishes to obtain, always limit your query to at most 5 results. You can order the results by a relevant column to return the most interesting examples in the database.\n",
      "\n",
      "Never query for all the columns from a specific table, only ask for a the few relevant columns given the question.\n",
      "\n",
      "Pay attention to use only the column names that you can see in the schema description. Be careful to not query for columns that do not exist. Also, pay attention to which column is in which table.\n",
      "\n",
      "Use the following format:\n",
      "\n",
      "Question: Question here\n",
      "SQLQuery: SQL Query to run\n",
      "SQLResult: Result of the SQLQuery\n",
      "Answer: Final answer here\n",
      "\n",
      "Only use the following tables:\n",
      "\u001b[33;1m\u001b[1;3m{table_info}\u001b[0m\n",
      "\n",
      "Question: \u001b[33;1m\u001b[1;3m{input}\u001b[0m\n"
     ]
    }
   ],
   "source": [
    "sql_chain = agent.create_sql_chain()\n",
    "sql_chain.get_prompts()[0].pretty_print()"
   ]
  },
  {
   "cell_type": "code",
   "execution_count": 18,
   "metadata": {},
   "outputs": [
    {
     "name": "stdout",
     "output_type": "stream",
     "text": [
      "2024-06-05 02:45:00,893 INFO sqlalchemy.engine.Engine BEGIN (implicit)\n",
      "2024-06-05 02:45:00,894 INFO sqlalchemy.engine.Engine SELECT ratings.tconst, ratings.averagerating, ratings.numvotes \n",
      "FROM ratings LIMIT %(param_1)s\n",
      "2024-06-05 02:45:00,894 INFO sqlalchemy.engine.Engine [generated in 0.00082s] {'param_1': 3}\n",
      "2024-06-05 02:45:02,230 INFO sqlalchemy.engine.Engine ROLLBACK\n",
      "2024-06-05 02:45:04,954 INFO sqlalchemy.engine.Engine BEGIN (implicit)\n",
      "2024-06-05 02:45:04,955 INFO sqlalchemy.engine.Engine SELECT tconst, averagerating FROM ratings WHERE numvotes > 1000 ORDER BY averagerating DESC LIMIT 10\n",
      "2024-06-05 02:45:04,955 INFO sqlalchemy.engine.Engine [generated in 0.00045s] {}\n",
      "2024-06-05 02:45:07,350 INFO sqlalchemy.engine.Engine COMMIT\n",
      "[('tt2301451', 10.0), ('tt9892336', 10.0), ('tt30882773', 10.0), ('tt32368060', 10.0), ('tt1204265', 9.9), ('tt11294360', 9.9), ('tt0701989', 9.9), ('tt11028174', 9.9), ('tt12187040', 9.9), ('tt2178784', 9.9)]\n"
     ]
    }
   ],
   "source": [
    "sql_chain.invoke({\"question\": questions[0]})"
   ]
  },
  {
   "cell_type": "code",
   "execution_count": 21,
   "metadata": {},
   "outputs": [
    {
     "name": "stdout",
     "output_type": "stream",
     "text": [
      "2024-06-05 02:45:56,235 INFO sqlalchemy.engine.Engine BEGIN (implicit)\n",
      "2024-06-05 02:45:56,235 INFO sqlalchemy.engine.Engine SELECT ratings.tconst, ratings.averagerating, ratings.numvotes \n",
      "FROM ratings LIMIT %(param_1)s\n",
      "2024-06-05 02:45:56,235 INFO sqlalchemy.engine.Engine [cached since 55.34s ago] {'param_1': 3}\n",
      "2024-06-05 02:45:57,563 INFO sqlalchemy.engine.Engine ROLLBACK\n",
      "2024-06-05 02:45:59,995 INFO sqlalchemy.engine.Engine BEGIN (implicit)\n",
      "2024-06-05 02:45:59,996 INFO sqlalchemy.engine.Engine SELECT COUNT(tconst) \n",
      "FROM ratings \n",
      "WHERE averagerating > (SELECT AVG(averagerating) FROM ratings)\n",
      "2024-06-05 02:45:59,997 INFO sqlalchemy.engine.Engine [cached since 20.28s ago] {}\n",
      "2024-06-05 02:46:03,433 INFO sqlalchemy.engine.Engine COMMIT\n"
     ]
    },
    {
     "data": {
      "text/plain": [
       "'815,853 titles have a rating above the median rating value.'"
      ]
     },
     "execution_count": 21,
     "metadata": {},
     "output_type": "execute_result"
    }
   ],
   "source": [
    "chain = agent.rephrase_chain()\n",
    "chain.invoke({\"question\" : questions[4]})"
   ]
  },
  {
   "cell_type": "code",
   "execution_count": null,
   "metadata": {},
   "outputs": [],
   "source": []
  }
 ],
 "metadata": {
  "kernelspec": {
   "display_name": ".venv",
   "language": "python",
   "name": "python3"
  },
  "language_info": {
   "codemirror_mode": {
    "name": "ipython",
    "version": 3
   },
   "file_extension": ".py",
   "mimetype": "text/x-python",
   "name": "python",
   "nbconvert_exporter": "python",
   "pygments_lexer": "ipython3",
   "version": "3.11.6"
  }
 },
 "nbformat": 4,
 "nbformat_minor": 2
}
